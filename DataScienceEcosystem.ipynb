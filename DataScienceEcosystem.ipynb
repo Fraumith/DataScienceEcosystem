{
 "cells": [
  {
   "cell_type": "markdown",
   "id": "986bc80c-3ff7-45a4-ad1c-099de2ab91a5",
   "metadata": {},
   "source": [
    "# Data Science Tools and Ecosystem"
   ]
  },
  {
   "cell_type": "markdown",
   "id": "7f22cdb8-72a9-46a3-a33e-2c7221eb6e3f",
   "metadata": {},
   "source": [
    "### In this notebook, Data Science Tools and Ecosystem are summarized."
   ]
  },
  {
   "cell_type": "markdown",
   "id": "94a7549c-c70c-40b9-bde2-79dde17c68a1",
   "metadata": {},
   "source": [
    "**Objectives:**\n",
    "- List popular languages for Data Science\n",
    "- List examples of open-source tools used in data science\n",
    "- List the various libraries for scientific, visualization, machine learning, and deep learning purposes\n",
    "- Create a Jupyter Notebook with markdown and code cells"
   ]
  },
  {
   "cell_type": "markdown",
   "id": "5950642f-0fe9-4f71-b5c4-f7b923b25882",
   "metadata": {},
   "source": [
    "Some of the more popular languages Data Scientists use are:\n",
    "1. Python\n",
    "2. SQL\n",
    "3. R"
   ]
  },
  {
   "cell_type": "markdown",
   "id": "b9c7fbbd-a405-4c2d-8f20-f18b1cd17ca8",
   "metadata": {},
   "source": [
    "Some of the commonly used libraries used by Data Scientists include:\n",
    "1. NumPy\n",
    "2. Matplotlib\n",
    "3. Scikit-learn"
   ]
  },
  {
   "cell_type": "markdown",
   "id": "814a78b0-b3ee-4a29-b219-a97363bb4e79",
   "metadata": {},
   "source": [
    "| Data Science Tools |\n",
    "| ----------- |\n",
    "| Jupyter Notebooks |\n",
    "| RStudio |\n",
    "| Apache Spark |"
   ]
  },
  {
   "cell_type": "markdown",
   "id": "1b19c20c-4c28-4de8-9dbb-2762887aca4d",
   "metadata": {},
   "source": [
    "### Below are a few examples of evaluating arithmetic expressions in Python"
   ]
  },
  {
   "cell_type": "code",
   "execution_count": 1,
   "id": "2270a59b-86c9-4501-b211-fdf47ad5cf2c",
   "metadata": {},
   "outputs": [
    {
     "data": {
      "text/plain": [
       "17"
      ]
     },
     "execution_count": 1,
     "metadata": {},
     "output_type": "execute_result"
    }
   ],
   "source": [
    "#This a simple arithmetic expression to multiply then add integers.\n",
    "(3*4)+5"
   ]
  },
  {
   "cell_type": "code",
   "execution_count": 2,
   "id": "a1f94eac-8336-4693-8f18-72a109693712",
   "metadata": {},
   "outputs": [
    {
     "data": {
      "text/plain": [
       "3.3333333333333335"
      ]
     },
     "execution_count": 2,
     "metadata": {},
     "output_type": "execute_result"
    }
   ],
   "source": [
    "#This will convert 200 minutes to hours by dividing by 60.\n",
    "200/60"
   ]
  },
  {
   "cell_type": "markdown",
   "id": "aaae057e-e8b1-4497-8b73-f48913ff65d5",
   "metadata": {},
   "source": [
    "## Author\n",
    "Fernanda Fadiga"
   ]
  }
 ],
 "metadata": {
  "kernelspec": {
   "display_name": "Python 3 (ipykernel)",
   "language": "python",
   "name": "python3"
  },
  "language_info": {
   "codemirror_mode": {
    "name": "ipython",
    "version": 3
   },
   "file_extension": ".py",
   "mimetype": "text/x-python",
   "name": "python",
   "nbconvert_exporter": "python",
   "pygments_lexer": "ipython3",
   "version": "3.11.9"
  }
 },
 "nbformat": 4,
 "nbformat_minor": 5
}
